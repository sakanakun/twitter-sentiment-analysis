{
 "cells": [
  {
   "cell_type": "markdown",
   "metadata": {},
   "source": [
    "## MIE 1624 - Introduction to Data Science and Analytics -Fall 2017\n",
    "### Assignment 1\n",
    "#Cheng Zhou \n",
    "#Student Number: 998283263\n",
    "#Due Nov 13, 2017"
   ]
  },
  {
   "cell_type": "markdown",
   "metadata": {},
   "source": [
    "### Import packages"
   ]
  },
  {
   "cell_type": "code",
   "execution_count": null,
   "metadata": {
    "collapsed": true
   },
   "outputs": [],
   "source": []
  },
  {
   "cell_type": "code",
   "execution_count": 1,
   "metadata": {},
   "outputs": [
    {
     "name": "stderr",
     "output_type": "stream",
     "text": [
      "/Users/zhouc6/anaconda3/lib/python3.6/site-packages/sklearn/cross_validation.py:41: DeprecationWarning: This module was deprecated in version 0.18 in favor of the model_selection module into which all the refactored classes and functions are moved. Also note that the interface of the new CV iterators are different from that of this module. This module will be removed in 0.20.\n",
      "  \"This module will be removed in 0.20.\", DeprecationWarning)\n",
      "/Users/zhouc6/anaconda3/lib/python3.6/site-packages/sklearn/learning_curve.py:22: DeprecationWarning: This module was deprecated in version 0.18 in favor of the model_selection module into which all the functions are moved. This module will be removed in 0.20\n",
      "  DeprecationWarning)\n"
     ]
    }
   ],
   "source": [
    "import numpy as np\n",
    "import pandas as pd\n",
    "import string\n",
    "import re\n",
    "import html.parser    \n",
    "import operator\n",
    "from os import path\n",
    "\n",
    "from collections import Counter\n",
    "import re\n",
    "import codecs\n",
    "counter = Counter()\n",
    "\n",
    "#Import feature extraction functions (bag of words and unigram)\n",
    "from __future__ import division, print_function, absolute_import\n",
    "from sklearn.feature_extraction.text import CountVectorizer\n",
    "from sklearn.cross_validation import train_test_split\n",
    "from sklearn.linear_model import LogisticRegression   \n",
    "\n",
    "# import machine learning modules\n",
    "from sklearn.linear_model import LogisticRegression\n",
    "from sklearn.metrics import make_scorer, accuracy_score\n",
    "\n",
    "from sklearn.model_selection import train_test_split\n",
    "from sklearn.cross_validation import train_test_split\n",
    "from sklearn.model_selection import learning_curve\n",
    "from sklearn.learning_curve import learning_curve\n",
    "#Import plot \n",
    "import matplotlib.pyplot as plt\n",
    "#from wordcloud import WordCloud\n",
    "\n",
    "\n"
   ]
  },
  {
   "cell_type": "code",
   "execution_count": 2,
   "metadata": {
    "collapsed": true
   },
   "outputs": [],
   "source": [
    "#save stopwords in a list\n",
    "stopwords = []\n",
    "with open('stop_words.txt') as stopword:\n",
    "    stopwords = stopword.read().lower().split()"
   ]
  },
  {
   "cell_type": "markdown",
   "metadata": {},
   "source": [
    "# 1. Data Cleaning\n",
    "Clean the twitter data by qualifying the following requirements\n",
    "o All html tags and attributes (i.e., /<[^>]+>/) are removed.\n",
    "o Html character codes (i.e., &...;) are replaced with an ASCII equivalent.\n",
    "o All URLs are removed.\n",
    "o All characters in the text are in lowercase.\n",
    "o All stopwords are removed. Be clear in what you consider as a stopword.\n",
    "o If a tweet is empty after pre-processing, it should be preserved as such."
   ]
  },
  {
   "cell_type": "code",
   "execution_count": 3,
   "metadata": {
    "collapsed": true
   },
   "outputs": [],
   "source": [
    "def clean_data(tw):\n",
    "\n",
    "    #All HTML characted code replaced with ASC2 equivalent\n",
    "    tw = html.unescape(tw)\n",
    "    #All URLs are removed\n",
    "    tw = re.sub(r\"http\\S+\", \"\",tw)\n",
    "    tw = re.sub(r\"pic.twitter.com\\S+\", \"\",tw) \n",
    "    tw = re.sub(r\"twitter.com\\S+\", \"\",tw) \n",
    "    #All html tags are removed,user tags, hashtags are kept\n",
    "    tw = re.sub(r'[^\\@\\#\\w\\s]',' ',tw) \n",
    "    #All characters in lowercase\n",
    "    tw = str(tw).lower()\n",
    "    return ' '.join(word.lower() for word in tw.split() if word.lower() not in stopwords)"
   ]
  },
  {
   "cell_type": "code",
   "execution_count": 4,
   "metadata": {},
   "outputs": [
    {
     "data": {
      "text/html": [
       "<div>\n",
       "<style>\n",
       "    .dataframe thead tr:only-child th {\n",
       "        text-align: right;\n",
       "    }\n",
       "\n",
       "    .dataframe thead th {\n",
       "        text-align: left;\n",
       "    }\n",
       "\n",
       "    .dataframe tbody tr th {\n",
       "        vertical-align: top;\n",
       "    }\n",
       "</style>\n",
       "<table border=\"1\" class=\"dataframe\">\n",
       "  <thead>\n",
       "    <tr style=\"text-align: right;\">\n",
       "      <th></th>\n",
       "      <th>senti</th>\n",
       "      <th>id</th>\n",
       "      <th>date</th>\n",
       "      <th>query</th>\n",
       "      <th>user</th>\n",
       "      <th>text</th>\n",
       "    </tr>\n",
       "  </thead>\n",
       "  <tbody>\n",
       "    <tr>\n",
       "      <th>0</th>\n",
       "      <td>0</td>\n",
       "      <td>1467810369</td>\n",
       "      <td>Mon Apr 06 22:19:45 PDT 2009</td>\n",
       "      <td>NO_QUERY</td>\n",
       "      <td>_TheSpecialOne_</td>\n",
       "      <td>@switchfoot http://twitpic.com/2y1zl - Awww, t...</td>\n",
       "    </tr>\n",
       "    <tr>\n",
       "      <th>1</th>\n",
       "      <td>0</td>\n",
       "      <td>1467810672</td>\n",
       "      <td>Mon Apr 06 22:19:49 PDT 2009</td>\n",
       "      <td>NO_QUERY</td>\n",
       "      <td>scotthamilton</td>\n",
       "      <td>is upset that he can't update his Facebook by ...</td>\n",
       "    </tr>\n",
       "    <tr>\n",
       "      <th>2</th>\n",
       "      <td>0</td>\n",
       "      <td>1467810917</td>\n",
       "      <td>Mon Apr 06 22:19:53 PDT 2009</td>\n",
       "      <td>NO_QUERY</td>\n",
       "      <td>mattycus</td>\n",
       "      <td>@Kenichan I dived many times for the ball. Man...</td>\n",
       "    </tr>\n",
       "    <tr>\n",
       "      <th>3</th>\n",
       "      <td>0</td>\n",
       "      <td>1467811184</td>\n",
       "      <td>Mon Apr 06 22:19:57 PDT 2009</td>\n",
       "      <td>NO_QUERY</td>\n",
       "      <td>ElleCTF</td>\n",
       "      <td>my whole body feels itchy and like its on fire</td>\n",
       "    </tr>\n",
       "    <tr>\n",
       "      <th>4</th>\n",
       "      <td>0</td>\n",
       "      <td>1467811193</td>\n",
       "      <td>Mon Apr 06 22:19:57 PDT 2009</td>\n",
       "      <td>NO_QUERY</td>\n",
       "      <td>Karoli</td>\n",
       "      <td>@nationwideclass no, it's not behaving at all....</td>\n",
       "    </tr>\n",
       "  </tbody>\n",
       "</table>\n",
       "</div>"
      ],
      "text/plain": [
       "  senti          id                          date     query             user  \\\n",
       "0     0  1467810369  Mon Apr 06 22:19:45 PDT 2009  NO_QUERY  _TheSpecialOne_   \n",
       "1     0  1467810672  Mon Apr 06 22:19:49 PDT 2009  NO_QUERY    scotthamilton   \n",
       "2     0  1467810917  Mon Apr 06 22:19:53 PDT 2009  NO_QUERY         mattycus   \n",
       "3     0  1467811184  Mon Apr 06 22:19:57 PDT 2009  NO_QUERY          ElleCTF   \n",
       "4     0  1467811193  Mon Apr 06 22:19:57 PDT 2009  NO_QUERY           Karoli   \n",
       "\n",
       "                                                text  \n",
       "0  @switchfoot http://twitpic.com/2y1zl - Awww, t...  \n",
       "1  is upset that he can't update his Facebook by ...  \n",
       "2  @Kenichan I dived many times for the ball. Man...  \n",
       "3    my whole body feels itchy and like its on fire   \n",
       "4  @nationwideclass no, it's not behaving at all....  "
      ]
     },
     "execution_count": 4,
     "metadata": {},
     "output_type": "execute_result"
    }
   ],
   "source": [
    "#Tweets in the classified_tweets.txt file are formed into pandas Dataframe with each comma-seperated field\n",
    "tweet = pd.read_csv(\"classified_tweets.txt\", sep=',', names=['senti','id','date','query','user','text'],error_bad_lines=False, index_col=False, dtype='unicode')\n",
    "tweet = pd.DataFrame(tweet[1:])\n",
    "tweet = tweet.reset_index(drop=True)\n",
    "tweet.senti =tweet.senti.apply(str)\n",
    "tweet.text= tweet.text.apply(str) \n",
    "tweet.head()"
   ]
  },
  {
   "cell_type": "code",
   "execution_count": 5,
   "metadata": {},
   "outputs": [
    {
     "data": {
      "text/html": [
       "<div>\n",
       "<style>\n",
       "    .dataframe thead tr:only-child th {\n",
       "        text-align: right;\n",
       "    }\n",
       "\n",
       "    .dataframe thead th {\n",
       "        text-align: left;\n",
       "    }\n",
       "\n",
       "    .dataframe tbody tr th {\n",
       "        vertical-align: top;\n",
       "    }\n",
       "</style>\n",
       "<table border=\"1\" class=\"dataframe\">\n",
       "  <thead>\n",
       "    <tr style=\"text-align: right;\">\n",
       "      <th></th>\n",
       "      <th>senti</th>\n",
       "      <th>text</th>\n",
       "    </tr>\n",
       "  </thead>\n",
       "  <tbody>\n",
       "    <tr>\n",
       "      <th>0</th>\n",
       "      <td>0</td>\n",
       "      <td>@switchfoot awww bummer shoulda david carr thi...</td>\n",
       "    </tr>\n",
       "    <tr>\n",
       "      <th>1</th>\n",
       "      <td>0</td>\n",
       "      <td>upset update facebook texting cry result schoo...</td>\n",
       "    </tr>\n",
       "    <tr>\n",
       "      <th>2</th>\n",
       "      <td>0</td>\n",
       "      <td>@kenichan dived times ball managed save 50 res...</td>\n",
       "    </tr>\n",
       "    <tr>\n",
       "      <th>3</th>\n",
       "      <td>0</td>\n",
       "      <td>body feels itchy fire</td>\n",
       "    </tr>\n",
       "    <tr>\n",
       "      <th>4</th>\n",
       "      <td>0</td>\n",
       "      <td>@nationwideclass behaving mad</td>\n",
       "    </tr>\n",
       "  </tbody>\n",
       "</table>\n",
       "</div>"
      ],
      "text/plain": [
       "  senti                                               text\n",
       "0     0  @switchfoot awww bummer shoulda david carr thi...\n",
       "1     0  upset update facebook texting cry result schoo...\n",
       "2     0  @kenichan dived times ball managed save 50 res...\n",
       "3     0                              body feels itchy fire\n",
       "4     0                      @nationwideclass behaving mad"
      ]
     },
     "execution_count": 5,
     "metadata": {},
     "output_type": "execute_result"
    }
   ],
   "source": [
    "#Clean the tweets data in classified.text for analysis\n",
    "clean_tweet = []\n",
    "for line in tweet.text:\n",
    "    clean_tweet.append(clean_data(line))\n",
    "tweet.drop('text', axis=1, inplace=True)\n",
    "tweet['text'] = clean_tweet\n",
    "#Remove inrrelevant columns\n",
    "columns = ['id','date','query','user']\n",
    "tweet.drop(columns, axis=1, inplace=True)\n",
    "tweet.head()"
   ]
  },
  {
   "cell_type": "code",
   "execution_count": 6,
   "metadata": {},
   "outputs": [
    {
     "data": {
      "text/html": [
       "<div>\n",
       "<style>\n",
       "    .dataframe thead tr:only-child th {\n",
       "        text-align: right;\n",
       "    }\n",
       "\n",
       "    .dataframe thead th {\n",
       "        text-align: left;\n",
       "    }\n",
       "\n",
       "    .dataframe tbody tr th {\n",
       "        vertical-align: top;\n",
       "    }\n",
       "</style>\n",
       "<table border=\"1\" class=\"dataframe\">\n",
       "  <thead>\n",
       "    <tr style=\"text-align: right;\">\n",
       "      <th></th>\n",
       "      <th>text</th>\n",
       "    </tr>\n",
       "  </thead>\n",
       "  <tbody>\n",
       "    <tr>\n",
       "      <th>0</th>\n",
       "      <td>living the dream. #cameraman #camera #camerace...</td>\n",
       "    </tr>\n",
       "    <tr>\n",
       "      <th>1</th>\n",
       "      <td>justin #trudeau's reasons for thanksgiving. to...</td>\n",
       "    </tr>\n",
       "    <tr>\n",
       "      <th>2</th>\n",
       "      <td>@themadape   butt…..butt…..we’re allergic to l...</td>\n",
       "    </tr>\n",
       "    <tr>\n",
       "      <th>3</th>\n",
       "      <td>2 massive explosions at peace march in #turkey...</td>\n",
       "    </tr>\n",
       "    <tr>\n",
       "      <th>4</th>\n",
       "      <td>#mulcair suggests there’s bad blood between hi...</td>\n",
       "    </tr>\n",
       "  </tbody>\n",
       "</table>\n",
       "</div>"
      ],
      "text/plain": [
       "                                                text\n",
       "0  living the dream. #cameraman #camera #camerace...\n",
       "1  justin #trudeau's reasons for thanksgiving. to...\n",
       "2  @themadape   butt…..butt…..we’re allergic to l...\n",
       "3  2 massive explosions at peace march in #turkey...\n",
       "4  #mulcair suggests there’s bad blood between hi..."
      ]
     },
     "execution_count": 6,
     "metadata": {},
     "output_type": "execute_result"
    }
   ],
   "source": [
    "#Tweets in the unclassified_tweets.txt file are formed into pandas Dataframe \n",
    "elct_tweet = pd.read_csv(\"unclassified_tweets.txt\", sep=',', names=['text'],error_bad_lines=False, index_col=False, dtype='unicode')\n",
    "elct_tweet = pd.DataFrame(elct_tweet[0:])\n",
    "elct_tweet = elct_tweet.reset_index(drop=True)\n",
    "elct_tweet.text= elct_tweet.text.apply(str) \n",
    "elct_tweet.head()"
   ]
  },
  {
   "cell_type": "code",
   "execution_count": 7,
   "metadata": {},
   "outputs": [
    {
     "data": {
      "text/html": [
       "<div>\n",
       "<style>\n",
       "    .dataframe thead tr:only-child th {\n",
       "        text-align: right;\n",
       "    }\n",
       "\n",
       "    .dataframe thead th {\n",
       "        text-align: left;\n",
       "    }\n",
       "\n",
       "    .dataframe tbody tr th {\n",
       "        vertical-align: top;\n",
       "    }\n",
       "</style>\n",
       "<table border=\"1\" class=\"dataframe\">\n",
       "  <thead>\n",
       "    <tr style=\"text-align: right;\">\n",
       "      <th></th>\n",
       "      <th>text</th>\n",
       "    </tr>\n",
       "  </thead>\n",
       "  <tbody>\n",
       "    <tr>\n",
       "      <th>0</th>\n",
       "      <td>living dream #cameraman #camera #cameraception...</td>\n",
       "    </tr>\n",
       "    <tr>\n",
       "      <th>1</th>\n",
       "      <td>justin #trudeau reasons thanksgiving today mon...</td>\n",
       "    </tr>\n",
       "    <tr>\n",
       "      <th>2</th>\n",
       "      <td>@themadape butt butt allergic latex sneeze #nb...</td>\n",
       "    </tr>\n",
       "    <tr>\n",
       "      <th>3</th>\n",
       "      <td>2 massive explosions peace march #turkey 30 ki...</td>\n",
       "    </tr>\n",
       "    <tr>\n",
       "      <th>4</th>\n",
       "      <td>#mulcair suggests bad blood #trudeau worldwide...</td>\n",
       "    </tr>\n",
       "    <tr>\n",
       "      <th>5</th>\n",
       "      <td>#polqc se sort de la marde avec #harper prêt à...</td>\n",
       "    </tr>\n",
       "    <tr>\n",
       "      <th>6</th>\n",
       "      <td>harper 8m help countries wing govt elected boi...</td>\n",
       "    </tr>\n",
       "    <tr>\n",
       "      <th>7</th>\n",
       "      <td>tommy taylor</td>\n",
       "    </tr>\n",
       "    <tr>\n",
       "      <th>8</th>\n",
       "      <td>@justintrudeau @thomasmulcair</td>\n",
       "    </tr>\n",
       "    <tr>\n",
       "      <th>9</th>\n",
       "      <td>tracy retweeted tsec</td>\n",
       "    </tr>\n",
       "  </tbody>\n",
       "</table>\n",
       "</div>"
      ],
      "text/plain": [
       "                                                text\n",
       "0  living dream #cameraman #camera #cameraception...\n",
       "1  justin #trudeau reasons thanksgiving today mon...\n",
       "2  @themadape butt butt allergic latex sneeze #nb...\n",
       "3  2 massive explosions peace march #turkey 30 ki...\n",
       "4  #mulcair suggests bad blood #trudeau worldwide...\n",
       "5  #polqc se sort de la marde avec #harper prêt à...\n",
       "6  harper 8m help countries wing govt elected boi...\n",
       "7                                       tommy taylor\n",
       "8                      @justintrudeau @thomasmulcair\n",
       "9                               tracy retweeted tsec"
      ]
     },
     "execution_count": 7,
     "metadata": {},
     "output_type": "execute_result"
    }
   ],
   "source": [
    "#Clean the tweets data in unclassified.txt for analysis\n",
    "clean_elct_tweet = []\n",
    "for line in elct_tweet.text:\n",
    "    clean_elct_tweet.append(clean_data(line))\n",
    "elct_tweet.drop('text', axis=1, inplace=True)\n",
    "\n",
    "elct_tweet['text']= clean_elct_tweet\n",
    "elct_tweet.head(10)"
   ]
  },
  {
   "cell_type": "markdown",
   "metadata": {},
   "source": [
    "# 2. Exploratory analysis \n"
   ]
  },
  {
   "cell_type": "markdown",
   "metadata": {},
   "source": [
    "## 2(a) \n",
    "Design a simple procedure that determines the political party of a given tweet"
   ]
  },
  {
   "cell_type": "code",
   "execution_count": 8,
   "metadata": {
    "collapsed": true
   },
   "outputs": [],
   "source": [
    "# Categorize Tweets\n",
    "'''\n",
    "    **Procedure to categorize the political affiliation a tweet**\n",
    "    \n",
    "    1.Firstly, a list of informative words for each party is created ,while a certain word in\n",
    "    the tweet appears after hashtags and at signs matches with the word in one party list,\n",
    "    this word is considered as a word shows affiliation of that particular party\n",
    "    \n",
    "    2. Substract the hashtags and at signs of each tweet and check \n",
    "    if hashtags and the words after at signs match with defined categories that contains \n",
    "    certain hashtags and twitter users, count the number of hastags and at signs in each\n",
    "    category.\n",
    "    \n",
    "    2.If there is no political hashtags in the tweet, it is assumed there is no\n",
    "    affiliation to a particular party. It assigns to 'Others'.\n",
    "    \n",
    "    3. If there are two or more party categories in a single tweet, and they \n",
    "    have same  number of hashtags, the tweet is still assigned to 'Others' because \n",
    "    its political affiliation is not clear.\n",
    "    \n",
    "    4. The tweet with a dominant number of hastags in a specific party category is \n",
    "    assigned to that particular party.\n",
    "    \n",
    "'''\n",
    "# create a list to save hashtag words\n",
    "hashtags = []\n",
    "lib = 0 # initial value of each category is 0\n",
    "con = 0\n",
    "ndp = 0\n",
    "others = 0\n",
    "#Political Parties categorized into Liberals, Conservatives and New Development\n",
    "party = dict(Liberal=lib, Conservative=con,NDP=ndp)\n",
    "\n",
    "#Key words are chosen based on the political affiliation showned in the hashtags\n",
    "liberal = ['lpc','liberal','trudeau','ptlib','ignatieff','lpcldr','justintrudeau','liberal_party',\\\n",
    "                 'trudeaus']\n",
    "conservative = ['cpc','conservative','stephen','harper','stephenharper'\\\n",
    "                      'pttory','clsh','robocall']\n",
    "NDP = ['ndp','newdemocratic','ndpapc','mulcair','tommulcair',\\\n",
    "             'ptndp','ndpldr','laytondp8']\n",
    "elct_tweet.text= [re.sub(r'[\\@]',' @',line) for line in elct_tweet.text]\n",
    "elct_tweet.text= [re.sub(r'[\\#]',' #',line) for line in elct_tweet.text]\n",
    "\n"
   ]
  },
  {
   "cell_type": "code",
   "execution_count": 9,
   "metadata": {
    "collapsed": true
   },
   "outputs": [],
   "source": [
    "def party(tw):\n",
    "    #hashtags_list = []\n",
    "    hashtags = []\n",
    "    lib = 0 # initial value of each category is 0\n",
    "    con = 0\n",
    "    ndp = 0\n",
    "        # define categories of hashtags\n",
    "    liberal = ['lpc','liberal','trudeau','ptlib','ignatieff','lpcldr','justintrudeau','liberal_party',\\\n",
    "                     'trudeaus']\n",
    "    conservative = ['cpc','conservative','stephen','harper','stephenharper'\\\n",
    "                          'pttory','clsh','robocall']\n",
    "    NDP = ['ndp','newdemocratic','ndpapc','mulcair','tommulcair',\\\n",
    "                 'ptndp','ndpldr','laytondp8']\n",
    "    tw= re.sub(r'[\\@]',' @',tw) \n",
    "    tw= re.sub(r'[\\#]',' #',tw) \n",
    "    party = dict(Liberal=lib, Conservative=con,NDP=ndp)\n",
    "    \n",
    "    #print(tw)\n",
    "    word = tw.split()\n",
    "    #print(item)\n",
    "    for a in word:\n",
    "        if '#' in a:\n",
    "                # delete hashtag sign\n",
    "            a = a.replace('#','') \n",
    "            hashtags.append(a)\n",
    "        elif '@' in word:\n",
    "                #delete @ sign\n",
    "            a = a.replace('@','') \n",
    "            hashtags.append(a)\n",
    "    #print(hashtags)\n",
    "        #count the number of keywords of affliation of political parties appeared in each tweet\n",
    "    for i in hashtags:\n",
    "        if i in liberal:\n",
    "            lib = lib + 1\n",
    "        elif i in conservative:\n",
    "            con = con + 1\n",
    "        elif i in NDP:\n",
    "            ndp = ndp +1\n",
    "    #print(lib)\n",
    "    #print(con)\n",
    "    #print(ndp)\n",
    "    score = [lib,con,ndp]\n",
    "    party = dict(Liberal=lib, Conservative=con,NDP=ndp)\n",
    "    maximum = max(party.values())\n",
    "    #print(maximum)\n",
    "    if (maximum == 0): \n",
    "        #print(\"['Others']\")\n",
    "        keys =\"Others\"\n",
    "        #print(keys)\n",
    "    elif (lib==maximum and con ==maximum) or (lib == maximum and ndp==maximum) or (con ==maximum and ndp ==maximum):\n",
    "        #print(\"['Others']\")\n",
    "        keys = \"Others\"\n",
    "        #print(keys)\n",
    "    else:\n",
    "        for key, value in party.items():\n",
    "            if value == maximum:\n",
    "                keys = key\n",
    "        #keys = [key for key, value in party.items() if value == maximum]\n",
    "    #print(keys)\n",
    "    return keys\n",
    "\n",
    "    \n",
    "  "
   ]
  },
  {
   "cell_type": "code",
   "execution_count": 10,
   "metadata": {},
   "outputs": [
    {
     "data": {
      "text/html": [
       "<div>\n",
       "<style>\n",
       "    .dataframe thead tr:only-child th {\n",
       "        text-align: right;\n",
       "    }\n",
       "\n",
       "    .dataframe thead th {\n",
       "        text-align: left;\n",
       "    }\n",
       "\n",
       "    .dataframe tbody tr th {\n",
       "        vertical-align: top;\n",
       "    }\n",
       "</style>\n",
       "<table border=\"1\" class=\"dataframe\">\n",
       "  <thead>\n",
       "    <tr style=\"text-align: right;\">\n",
       "      <th></th>\n",
       "      <th>text</th>\n",
       "      <th>party</th>\n",
       "    </tr>\n",
       "  </thead>\n",
       "  <tbody>\n",
       "    <tr>\n",
       "      <th>0</th>\n",
       "      <td>living dream  #cameraman  #camera  #cameracept...</td>\n",
       "      <td>NDP</td>\n",
       "    </tr>\n",
       "    <tr>\n",
       "      <th>1</th>\n",
       "      <td>justin  #trudeau reasons thanksgiving today mo...</td>\n",
       "      <td>Liberal</td>\n",
       "    </tr>\n",
       "    <tr>\n",
       "      <th>2</th>\n",
       "      <td>@themadape butt butt allergic latex sneeze  #...</td>\n",
       "      <td>Others</td>\n",
       "    </tr>\n",
       "    <tr>\n",
       "      <th>3</th>\n",
       "      <td>2 massive explosions peace march  #turkey 30 k...</td>\n",
       "      <td>Others</td>\n",
       "    </tr>\n",
       "    <tr>\n",
       "      <th>4</th>\n",
       "      <td>#mulcair suggests bad blood  #trudeau worldwi...</td>\n",
       "      <td>NDP</td>\n",
       "    </tr>\n",
       "  </tbody>\n",
       "</table>\n",
       "</div>"
      ],
      "text/plain": [
       "                                                text    party\n",
       "0  living dream  #cameraman  #camera  #cameracept...      NDP\n",
       "1  justin  #trudeau reasons thanksgiving today mo...  Liberal\n",
       "2   @themadape butt butt allergic latex sneeze  #...   Others\n",
       "3  2 massive explosions peace march  #turkey 30 k...   Others\n",
       "4   #mulcair suggests bad blood  #trudeau worldwi...      NDP"
      ]
     },
     "execution_count": 10,
     "metadata": {},
     "output_type": "execute_result"
    }
   ],
   "source": [
    "#This shows the result of the political affiliation of each tweet\n",
    "party_affl = []\n",
    "for line in elct_tweet.text:\n",
    "    #line = clean_data(line)\n",
    "    elct_party = party(line)\n",
    "    party_affl.append(elct_party)\n",
    "    \n",
    "#Add party column to the dataframe\n",
    "elct_tweet['party']= party_affl\n",
    "elct_tweet.head()\n"
   ]
  },
  {
   "cell_type": "markdown",
   "metadata": {},
   "source": [
    "## 2(b)\n",
    "Present a graphical figure (e.g. chart, graph, histogram, boxplot, word cloud, etc) that\n",
    "visualizes some aspect of the unclassified data and another figure for the classified\n",
    "data. All graphs and plots should be readable and have all axes that are appropriately\n",
    "labelled."
   ]
  },
  {
   "cell_type": "code",
   "execution_count": 11,
   "metadata": {},
   "outputs": [
    {
     "name": "stdout",
     "output_type": "stream",
     "text": [
      "Conservative    316.0\n",
      "Liberal         362.0\n",
      "NDP             257.0\n",
      "dtype: float64\n",
      "Partys Mentioned in Twitter hashtags\n"
     ]
    },
    {
     "data": {
      "image/png": "[encoded data removed]",
      "text/plain": [
       "<matplotlib.figure.Figure at 0x10bf3ac88>"
      ]
     },
     "metadata": {},
     "output_type": "display_data"
    }
   ],
   "source": [
    "#Count the total number of tweets that attend to support each party\n",
    "%matplotlib inline\n",
    "import matplotlib.pyplot as plt\n",
    "from matplotlib.gridspec import GridSpec\n",
    "party_cnt = elct_tweet.party.apply(lambda x: pd.value_counts(str(x).split(\" \"))).sum(axis = 0)\n",
    "total = sum(party_cnt) - party_cnt.Others\n",
    "\n",
    "#A pie chart that shows the proportion of each party that were mentioned in the tweet hashtags\n",
    "labels = 'Conservative','NDP','Liberal'\n",
    "fracs = [(party_cnt.Conservative/total)*100,\\\n",
    "          (party_cnt.NDP/total)*100,(party_cnt.Liberal/total)*100,]\n",
    "\n",
    "explode = (0, 0, 0.1)  # only \"explode\" the 2nd slice (i.e. 'Liberal')\n",
    "# Make square figures and axes\n",
    "fig1, ax1 = plt.subplots()\n",
    "ax1.pie(fracs, explode=explode, labels=labels, autopct='%1.1f%%',\n",
    "        shadow=True, startangle=90)\n",
    "ax1.axis('equal')  # Equal aspect ratio ensures that pie is drawn as a circle.\n",
    "print(party_cnt[:3])\n",
    "print('Partys Mentioned in Twitter hashtags')\n",
    "plt.show()"
   ]
  },
  {
   "cell_type": "markdown",
   "metadata": {},
   "source": [
    "### “What can public opinion on Twitter tell us about the Canadian political landscape in 2015?”\n",
    "Liberal Party leads the number of tweets related to them and number of positive\n",
    "sentiment tweets followed by Conservative and New Development, which implies Liberal Party has the largest Canadian political landscape,Conservative is the second largest and New Democratic holds the third place, which is consistent to the actual situation. ( e.g Liberal:39.47%\tConservative:31.89%\t New Democratic:19.71%)"
   ]
  },
  {
   "cell_type": "code",
   "execution_count": 12,
   "metadata": {},
   "outputs": [
    {
     "name": "stdout",
     "output_type": "stream",
     "text": [
      "[('work', 6477), ('day', 5838), ('today', 5019), ('going', 4381), ('don', 3937), ('good', 3760), ('time', 3614), ('sad', 3231), ('2', 3021), ('sleep', 2913), ('night', 2841), ('will', 2763), ('tomorrow', 2721), ('lol', 2663), ('bad', 2565), ('feel', 2558), ('well', 2454), ('school', 2257), ('morning', 2235), ('hate', 2113)]\n",
      "[('good', 11799), ('day', 11365), ('work', 8953), ('today', 8882), ('going', 8475), ('love', 7634), ('time', 7504), ('lol', 6809), ('will', 6429), ('don', 6176), ('night', 6057), ('well', 5426), ('morning', 5203), ('2', 5194), ('ll', 4833), ('twitter', 4821), ('great', 4491), ('tomorrow', 4456), ('sleep', 4318), ('hope', 4252)]\n"
     ]
    },
    {
     "data": {
      "image/png": "[encoded data removed]",
      "text/plain": [
       "<matplotlib.figure.Figure at 0x1a15460080>"
      ]
     },
     "metadata": {},
     "output_type": "display_data"
    },
    {
     "data": {
      "image/png": "[encoded data removed]",
      "text/plain": [
       "<matplotlib.figure.Figure at 0x111761ef0>"
      ]
     },
     "metadata": {},
     "output_type": "display_data"
    }
   ],
   "source": [
    "#This part show bar charts for most frequently used words in classified data grouped by sentiment value\n",
    "from collections import Counter\n",
    "import re\n",
    "import codecs\n",
    "counter = Counter()\n",
    "for i in range(len(tweet)//2):\n",
    "    counter.update([word for word in re.findall(r'\\w+', tweet['text'][i])])\n",
    "\n",
    "neg_words =counter.most_common(20)\n",
    "print(neg_words)\n",
    "for i in range(len(tweet)//2,len(tweet)):\n",
    "    counter.update([word for word in re.findall(r'\\w+', tweet['text'][i])])\n",
    "\n",
    "pos_words =counter.most_common(20)\n",
    "print(pos_words)\n",
    "x1_labels = list(zip(*neg_words))[0]\n",
    "y1_labels = list(zip(*neg_words))[1]\n",
    "x2_labels = list(zip(*pos_words))[0]\n",
    "y2_labels = list(zip(*pos_words))[1]\n",
    "x_labels = list(set(x1_labels+x2_labels))      \n",
    "x_pos = np.arange(len(x1_labels)) \n",
    "fig, ax = plt.subplots()\n",
    "\n",
    "bar_width = 0.5\n",
    "\n",
    "opacity = 0.4\n",
    "error_config = {'ecolor': '0.3'}\n",
    "plt.bar(x_pos, y1_labels, bar_width,\n",
    "                 alpha=opacity,\n",
    "                 color='b',\n",
    "                 error_kw=error_config,\n",
    "                 label='Negative')\n",
    " \n",
    "plt.ylabel('Frequency')\n",
    "plt.title('Most frequent Words in Tweets with Negative Sentiment Value')\n",
    "plt.xticks(x_pos + bar_width / 2, x1_labels)\n",
    "plt.xticks(rotation=70)\n",
    "plt.legend()\n",
    "plt.show()\n",
    "\n",
    "plt.title('Most frequent Words in Tweets with Positive Sentiment Value')\n",
    "plt.bar(x_pos + bar_width, y2_labels, bar_width,\n",
    "                 alpha=opacity,\n",
    "                 color='r',\n",
    "                 error_kw=error_config,\n",
    "                 label='Positive')\n",
    "\n",
    "plt.xticks(x_pos + bar_width / 2, x2_labels)\n",
    "plt.xticks(rotation=70)\n",
    "plt.legend()\n",
    "plt.show()"
   ]
  },
  {
   "cell_type": "markdown",
   "metadata": {},
   "source": [
    "# 3. Model Preparation\n",
    "Split the classified data randomly into training data (70%) and test data (30%). Prepare\n",
    "the data for logistic regression where each tweet is considered a single observation. \n",
    "In the logistic regression model, the outcome variable is the sentiment value, which is either\n",
    "positive or negative. \n",
    "The independent variables or features of the model can be whateverou want. \n",
    "As a suggestion, you can use the frequency of each word as the features of the\n",
    "model, or alternatively, you can first tag each n-gram by its part of speech and then use\n",
    "the frequency of each part of speech as the features of the model."
   ]
  },
  {
   "cell_type": "code",
   "execution_count": 15,
   "metadata": {},
   "outputs": [
    {
     "data": {
      "text/html": [
       "<div>\n",
       "<style>\n",
       "    .dataframe thead tr:only-child th {\n",
       "        text-align: right;\n",
       "    }\n",
       "\n",
       "    .dataframe thead th {\n",
       "        text-align: left;\n",
       "    }\n",
       "\n",
       "    .dataframe tbody tr th {\n",
       "        vertical-align: top;\n",
       "    }\n",
       "</style>\n",
       "<table border=\"1\" class=\"dataframe\">\n",
       "  <thead>\n",
       "    <tr style=\"text-align: right;\">\n",
       "      <th></th>\n",
       "      <th>senti</th>\n",
       "      <th>text</th>\n",
       "      <th>BOW</th>\n",
       "    </tr>\n",
       "  </thead>\n",
       "  <tbody>\n",
       "    <tr>\n",
       "      <th>0</th>\n",
       "      <td>0</td>\n",
       "      <td>@switchfoot awww bummer shoulda david carr thi...</td>\n",
       "      <td>(0, 350521)\\t1\\n  (0, 447693)\\t1\\n  (0, 3505...</td>\n",
       "    </tr>\n",
       "    <tr>\n",
       "      <th>1</th>\n",
       "      <td>0</td>\n",
       "      <td>upset update facebook texting cry result schoo...</td>\n",
       "      <td>(0, 350521)\\t1\\n  (0, 447693)\\t1\\n  (0, 3505...</td>\n",
       "    </tr>\n",
       "    <tr>\n",
       "      <th>2</th>\n",
       "      <td>0</td>\n",
       "      <td>@kenichan dived times ball managed save 50 res...</td>\n",
       "      <td>(0, 350521)\\t1\\n  (0, 447693)\\t1\\n  (0, 3505...</td>\n",
       "    </tr>\n",
       "    <tr>\n",
       "      <th>3</th>\n",
       "      <td>0</td>\n",
       "      <td>body feels itchy fire</td>\n",
       "      <td>(0, 350521)\\t1\\n  (0, 447693)\\t1\\n  (0, 3505...</td>\n",
       "    </tr>\n",
       "    <tr>\n",
       "      <th>4</th>\n",
       "      <td>0</td>\n",
       "      <td>@nationwideclass behaving mad</td>\n",
       "      <td>(0, 350521)\\t1\\n  (0, 447693)\\t1\\n  (0, 3505...</td>\n",
       "    </tr>\n",
       "  </tbody>\n",
       "</table>\n",
       "</div>"
      ],
      "text/plain": [
       "  senti                                               text  \\\n",
       "0     0  @switchfoot awww bummer shoulda david carr thi...   \n",
       "1     0  upset update facebook texting cry result schoo...   \n",
       "2     0  @kenichan dived times ball managed save 50 res...   \n",
       "3     0                              body feels itchy fire   \n",
       "4     0                      @nationwideclass behaving mad   \n",
       "\n",
       "                                                 BOW  \n",
       "0    (0, 350521)\\t1\\n  (0, 447693)\\t1\\n  (0, 3505...  \n",
       "1    (0, 350521)\\t1\\n  (0, 447693)\\t1\\n  (0, 3505...  \n",
       "2    (0, 350521)\\t1\\n  (0, 447693)\\t1\\n  (0, 3505...  \n",
       "3    (0, 350521)\\t1\\n  (0, 447693)\\t1\\n  (0, 3505...  \n",
       "4    (0, 350521)\\t1\\n  (0, 447693)\\t1\\n  (0, 3505...  "
      ]
     },
     "execution_count": 15,
     "metadata": {},
     "output_type": "execute_result"
    }
   ],
   "source": [
    "len(tweet)\n",
    "dataset_x = tweet['text']\n",
    "dataset_y = tweet['senti']\n",
    "tweet.loc[tweet['senti'] == '0', 'senti'] = 0\n",
    "tweet.loc[tweet['senti'] == '4', 'senti'] = 1\n",
    "#Split the data randomly into training data (70%) and test data (30%)\n",
    "x_train, x_test, y_train, y_test = train_test_split(dataset_x, dataset_y, test_size = 0.3)\n",
    "#Output variables are sentiment values\n",
    "y_train = y_train.astype('int')\n",
    "#Use the frquency of words appeared in each tweet as features for model training\n",
    "bag_of_words = CountVectorizer(None, ngram_range=(1, 2),max_df =0.75)\n",
    "x_train_BOW = bag_of_words.fit_transform(x_train)\n",
    "tweet['BOW'] = x_train_BOW\n",
    "x_test_BOW = bag_of_words.transform(x_test)\n",
    "tweet.head()"
   ]
  },
  {
   "cell_type": "markdown",
   "metadata": {},
   "source": [
    "# 4.Model Implementation\n",
    "Train a logistic regression model on the training data and apply the model to the test data\n",
    "to obtain an accuracy value. Evaluate the same model with the unclassified data."
   ]
  },
  {
   "cell_type": "code",
   "execution_count": 16,
   "metadata": {},
   "outputs": [
    {
     "name": "stdout",
     "output_type": "stream",
     "text": [
      "\n",
      "The accuracy for classified trainning is 0.7508166666666667\n"
     ]
    }
   ],
   "source": [
    "#Train a logistic regression modeling using the data defined \n",
    "model = LogisticRegression()\n",
    "model.fit(x_train_BOW, y_train)\n",
    "label_predicted = model.predict(x_test_BOW)\n",
    "label_actual = np.array(y_test)\n",
    "correct_counter = 0\n",
    "\n",
    "for i in range(0, len(label_predicted)):\n",
    "    if label_predicted[i] == label_actual[i]:\n",
    "        correct_counter = correct_counter + 1\n",
    "#Obtain the accuracy value of the training data\n",
    "accuracy = correct_counter/len(label_predicted)\n",
    "print(\"\\nThe accuracy for classified trainning is\",accuracy)"
   ]
  },
  {
   "cell_type": "code",
   "execution_count": 17,
   "metadata": {
    "collapsed": true
   },
   "outputs": [],
   "source": [
    "#Here we want to predict the sentiment value of each unclassfied tweet\n",
    "senti_elct= []\n",
    "dataset_x = tweet['text']\n",
    "dataset_y = tweet['senti']\n",
    "tweet.loc[tweet['senti'] == '0', 'senti'] = 0\n",
    "tweet.loc[tweet['senti'] == '4', 'senti'] = 1\n",
    "#Split the classified data randomly into training data (70%) and test data (30%)\n",
    "x_train, x_test, y_train, y_test = train_test_split(dataset_x, dataset_y, test_size = 0.3)\n",
    "#Output variable are sentiment values\n",
    "y_train = y_train.astype('int')\n",
    "# To automatically detect and filter stop words based on intra corpus document frequency of terms.\n",
    "bag_of_words = CountVectorizer(None, ngram_range=(1, 2),max_df =0.75 )\n",
    "x_train_BOW = bag_of_words.fit_transform(x_train)\n",
    "x_test_BOW = bag_of_words.transform(x_test)\n",
    "\n",
    "#Evaluate the model with unclassfied data\n",
    "model = LogisticRegression()\n",
    "model.fit(x_train_BOW, y_train)\n",
    "x_un_train_BOW = bag_of_words.transform(elct_tweet.text)\n",
    "#Predicted sentiment values of unclassfied tweets\n",
    "senti_elct = model.predict(bag_of_words.transform(elct_tweet.text))    \n",
    "elct_tweet['senti']=senti_elct"
   ]
  },
  {
   "cell_type": "code",
   "execution_count": 18,
   "metadata": {},
   "outputs": [
    {
     "data": {
      "text/html": [
       "<div>\n",
       "<style>\n",
       "    .dataframe thead tr:only-child th {\n",
       "        text-align: right;\n",
       "    }\n",
       "\n",
       "    .dataframe thead th {\n",
       "        text-align: left;\n",
       "    }\n",
       "\n",
       "    .dataframe tbody tr th {\n",
       "        vertical-align: top;\n",
       "    }\n",
       "</style>\n",
       "<table border=\"1\" class=\"dataframe\">\n",
       "  <thead>\n",
       "    <tr style=\"text-align: right;\">\n",
       "      <th></th>\n",
       "      <th>text</th>\n",
       "      <th>party</th>\n",
       "      <th>senti</th>\n",
       "    </tr>\n",
       "  </thead>\n",
       "  <tbody>\n",
       "    <tr>\n",
       "      <th>0</th>\n",
       "      <td>living dream  #cameraman  #camera  #cameracept...</td>\n",
       "      <td>NDP</td>\n",
       "      <td>0</td>\n",
       "    </tr>\n",
       "    <tr>\n",
       "      <th>1</th>\n",
       "      <td>justin  #trudeau reasons thanksgiving today mo...</td>\n",
       "      <td>Liberal</td>\n",
       "      <td>1</td>\n",
       "    </tr>\n",
       "    <tr>\n",
       "      <th>2</th>\n",
       "      <td>@themadape butt butt allergic latex sneeze  #...</td>\n",
       "      <td>Others</td>\n",
       "      <td>0</td>\n",
       "    </tr>\n",
       "    <tr>\n",
       "      <th>3</th>\n",
       "      <td>2 massive explosions peace march  #turkey 30 k...</td>\n",
       "      <td>Others</td>\n",
       "      <td>1</td>\n",
       "    </tr>\n",
       "    <tr>\n",
       "      <th>4</th>\n",
       "      <td>#mulcair suggests bad blood  #trudeau worldwi...</td>\n",
       "      <td>NDP</td>\n",
       "      <td>0</td>\n",
       "    </tr>\n",
       "  </tbody>\n",
       "</table>\n",
       "</div>"
      ],
      "text/plain": [
       "                                                text    party  senti\n",
       "0  living dream  #cameraman  #camera  #cameracept...      NDP      0\n",
       "1  justin  #trudeau reasons thanksgiving today mo...  Liberal      1\n",
       "2   @themadape butt butt allergic latex sneeze  #...   Others      0\n",
       "3  2 massive explosions peace march  #turkey 30 k...   Others      1\n",
       "4   #mulcair suggests bad blood  #trudeau worldwi...      NDP      0"
      ]
     },
     "execution_count": 18,
     "metadata": {},
     "output_type": "execute_result"
    }
   ],
   "source": [
    "elct_tweet.head()"
   ]
  },
  {
   "cell_type": "code",
   "execution_count": 19,
   "metadata": {},
   "outputs": [
    {
     "name": "stdout",
     "output_type": "stream",
     "text": [
      "Statistics on Tweet Sentiments for 2015 Canadian Federal Election\n"
     ]
    },
    {
     "data": {
      "text/html": [
       "<div>\n",
       "<style>\n",
       "    .dataframe thead tr:only-child th {\n",
       "        text-align: right;\n",
       "    }\n",
       "\n",
       "    .dataframe thead th {\n",
       "        text-align: left;\n",
       "    }\n",
       "\n",
       "    .dataframe tbody tr th {\n",
       "        vertical-align: top;\n",
       "    }\n",
       "</style>\n",
       "<table border=\"1\" class=\"dataframe\">\n",
       "  <thead>\n",
       "    <tr style=\"text-align: right;\">\n",
       "      <th></th>\n",
       "      <th></th>\n",
       "      <th>count</th>\n",
       "    </tr>\n",
       "    <tr>\n",
       "      <th>party</th>\n",
       "      <th>senti</th>\n",
       "      <th></th>\n",
       "    </tr>\n",
       "  </thead>\n",
       "  <tbody>\n",
       "    <tr>\n",
       "      <th rowspan=\"2\" valign=\"top\">Conservative</th>\n",
       "      <th>1</th>\n",
       "      <td>183</td>\n",
       "    </tr>\n",
       "    <tr>\n",
       "      <th>0</th>\n",
       "      <td>133</td>\n",
       "    </tr>\n",
       "    <tr>\n",
       "      <th rowspan=\"2\" valign=\"top\">Liberal</th>\n",
       "      <th>1</th>\n",
       "      <td>250</td>\n",
       "    </tr>\n",
       "    <tr>\n",
       "      <th>0</th>\n",
       "      <td>112</td>\n",
       "    </tr>\n",
       "    <tr>\n",
       "      <th rowspan=\"2\" valign=\"top\">NDP</th>\n",
       "      <th>1</th>\n",
       "      <td>201</td>\n",
       "    </tr>\n",
       "    <tr>\n",
       "      <th>0</th>\n",
       "      <td>56</td>\n",
       "    </tr>\n",
       "  </tbody>\n",
       "</table>\n",
       "</div>"
      ],
      "text/plain": [
       "                    count\n",
       "party        senti       \n",
       "Conservative 1        183\n",
       "             0        133\n",
       "Liberal      1        250\n",
       "             0        112\n",
       "NDP          1        201\n",
       "             0         56"
      ]
     },
     "execution_count": 19,
     "metadata": {},
     "output_type": "execute_result"
    }
   ],
   "source": [
    "result = pd.DataFrame(elct_tweet.groupby('party').senti.value_counts())\n",
    "result.columns = ['count']\n",
    "print('Statistics on Tweet Sentiments for 2015 Canadian Federal Election')\n",
    "result.head(6)"
   ]
  },
  {
   "cell_type": "markdown",
   "metadata": {},
   "source": [
    "# 5. Discussion\n",
    "Answer the research question stated above. Describe the results of the analysis and\n",
    "discuss your interpretation of the results. Did you gain any potential insights into the\n",
    "political sentiment of the Canadian electorate with respect to the major political parties\n",
    "participating in the 2015 federal election? Explain how each political party is viewed in\n",
    "the public eye based on the sentiment value."
   ]
  },
  {
   "cell_type": "markdown",
   "metadata": {},
   "source": [
    "### Describe the results of the analysis and discuss your interpretation of the results.\n",
    "Classified Tweets:\n",
    "The frequency of unigram in the tweets have been counted as features for logistic regression model training. For 1 trial no fold, the accuracy on classifying sentiment values of Canadian Federal election tweets based on 7:3 training and testing dataset split of 200,000 tweets is about 75%, therefore is model is considered reliable. The accuracy\n",
    "could be further improved by more accurate feature selection (e.g. changing hyper parameter).\n",
    "\n",
    "Unclassified Tweets:\n",
    "Based on the predictions of all the unclassified tweets using the training model, Liberal party has the highest  number of positive tweets (250) as well as the highest number of mentions in the hashtags (362) related\n",
    "to their political topics, while Conservative and Ndp have 183 and 201 positive tweets, respectively. This implies that Liberal Party is the most trending political Party based on the number of mentions and hashtags. At the same time it is the most popular Party compared to other Parties in the 2015 Canadian Federal Election based on the number of tweets of positive sentiment.\n",
    "\n",
    "Liberal Party leads the number of tweets related to them and number of positive sentiment tweets followed by Conservative and New Development, which implies Liberal Party has the largest Canadian political landscape. Conservative is the second largest and New Democratic holds the third place, which is consistent to the actual situation.\n",
    "\n",
    "Liberal has about twice number of tweets with positive sentiments compared to negative sentiments tweets(250:112). It is considered Liberal Party is favourable in the public eye. New Democratic has an impressive ratio of positive sentiment tweets over negative sentiments tweets(201:56) but lacks of public popularity. Conservative has the second largest public popularity but the positive sentiment ratio among them is the lowest(183:133).\n"
   ]
  },
  {
   "cell_type": "markdown",
   "metadata": {
    "collapsed": true
   },
   "source": [
    "# 6. Bonus:\n",
    "● Explore alternative classification methods and compare their performance to that of the\n",
    "logistic regression model.\n",
    "● While the exploratory analysis section requires only two figures, you can explore the data\n",
    "further. You can also display the results of the logistic regression model visually.\n",
    "● Improve the performance of your model by tuning its hyperparameters."
   ]
  },
  {
   "cell_type": "code",
   "execution_count": 20,
   "metadata": {},
   "outputs": [
    {
     "name": "stdout",
     "output_type": "stream",
     "text": [
      "\n",
      "The accuracy for classified trainning is 0.7402666666666666\n"
     ]
    }
   ],
   "source": [
    "# Multinomial Naive Bayes Classification  model is used to predict sentiment values for unclassfied tweets\n",
    "import sklearn.metrics as metrics \n",
    "from sklearn.naive_bayes import MultinomialNB\n",
    "mnb = MultinomialNB()\n",
    "x1_train, x1_test, y1_train, y1_test = train_test_split(dataset_x, dataset_y, test_size = 0.3)\n",
    "#Output variable are sentiment values\n",
    "y1_train = y1_train.astype('int')\n",
    "x1_train_BOW = bag_of_words.fit_transform(x1_train)\n",
    "x1_test_BOW = bag_of_words.transform(x1_test)\n",
    "mnb.fit(x1_train_BOW, y1_train)\n",
    "label1_predicted = mnb.predict(x1_test_BOW)\n",
    "label1_actual = np.array(y1_test)\n",
    "correct_counter = 0\n",
    "for i in range(0, len(label1_predicted)):\n",
    "    if label1_predicted[i] == label1_actual[i]:\n",
    "        correct_counter = correct_counter + 1\n",
    "#Obtain the accuracy value of the training data\n",
    "accuracy1 = correct_counter/len(label1_predicted)\n",
    "print(\"\\nThe accuracy for classified trainning is\",accuracy1)\n"
   ]
  },
  {
   "cell_type": "code",
   "execution_count": 21,
   "metadata": {},
   "outputs": [
    {
     "name": "stdout",
     "output_type": "stream",
     "text": [
      "Conservative    183.0\n",
      "Liberal         250.0\n",
      "NDP             201.0\n",
      "dtype: float64\n",
      "Tweets with Positive Sentiment values Predicted for Each Party\n"
     ]
    },
    {
     "data": {
      "image/png": "[encoded data removed]",
      "text/plain": [
       "<matplotlib.figure.Figure at 0x1a1d2f7d30>"
      ]
     },
     "metadata": {},
     "output_type": "display_data"
    }
   ],
   "source": [
    "labels = 'Conservative','NDP','Liberal'\n",
    "po_senti = elct_tweet.loc[elct_tweet['senti'] == 1, 'party']\n",
    "prty_cnt = po_senti.apply(lambda x: pd.value_counts(str(x).split(\" \"))).sum(axis = 0)\n",
    "print(prty_cnt[:3])\n",
    "total_cnt = sum(prty_cnt) - prty_cnt.Others\n",
    "\n",
    "fracs = [(prty_cnt.Conservative/total_cnt)*100,\\\n",
    "          (prty_cnt.NDP/total_cnt)*100,(prty_cnt.Liberal/total_cnt)*100,]\n",
    "\n",
    "explode = (0, 0, 0.1)  # only \"explode\" the 2nd slice (i.e. 'Liberal')\n",
    "# Make square figures and axes\n",
    "fig2, ax2 = plt.subplots()\n",
    "ax2.pie(fracs, explode=explode, labels=labels, autopct='%1.1f%%',\n",
    "        shadow=True, startangle=90)\n",
    "ax2.axis('equal')  # Equal aspect ratio ensures that pie is drawn as a circle.\n",
    "print('Tweets with Positive Sentiment values Predicted for Each Party')\n",
    "plt.show()"
   ]
  }
 ],
 "metadata": {
  "anaconda-cloud": {},
  "kernelspec": {
   "display_name": "Python 3",
   "language": "python",
   "name": "python3"
  },
  "language_info": {
   "codemirror_mode": {
    "name": "ipython",
    "version": 3
   },
   "file_extension": ".py",
   "mimetype": "text/x-python",
   "name": "python",
   "nbconvert_exporter": "python",
   "pygments_lexer": "ipython3",
   "version": "3.6.2"
  },
  "widgets": {
   "state": {},
   "version": "1.1.2"
  }
 },
 "nbformat": 4,
 "nbformat_minor": 1
}
